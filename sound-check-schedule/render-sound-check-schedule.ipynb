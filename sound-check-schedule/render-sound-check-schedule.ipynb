{
 "cells": [
  {
   "cell_type": "code",
   "execution_count": 41,
   "metadata": {},
   "outputs": [
    {
     "name": "stdout",
     "output_type": "stream",
     "text": [
      "{'title': 'SPRAWL 3.0', 'facilitator': 'Henrick von Coler', 'abstract': 'SPRAWL 3.0 is a new incarnation of a network-meta-instrument that has been developed since 2017. It is used for composition and performance of experimental electroacoustic music and in computer-music education. The recent version features 16 Access Points (AP) each consisting of a Raspberry PI 5, 10” touchscreen, audio interface and loudspeaker. All APs are peers in a server-less local area cluster, using JackTrip for a fully connected mesh audio network and an overlay network to ease OSC communication. SuperCollider (SC) serves as the main programming environment for creating configurations and AP software for improvisation and compositions. Audio can be flexibly routed though matrices in SC on each Access Point and GUIs allow musicians to interact with the meta-instrument. The basic idea behind SPRAWL is to explore different system configurations which are inherently connected to musical concepts. Some may use the system with additional musical instruments or microphones connected to each AP, while others work without additional input and create sound within SuperCollider. To make the reconfiguration of this complex system fast and robust, SPRAWL relies on professional admin-tools like Ansible to deploy concepts and configurations with a single command.\\n\\nIn a hands-on workshop/demo we show the capabilities of SPRAWL with 4-8 APs. Participants will create simple configurations and concepts from scratch by programming SC nodes on the Access Points and connecting the network ‘manually.’ They will also deploy existing concepts with Ansible, showing how advanced tools ease the use of a complex system.\\n\\nThe workshop is relevant to the following symposium topics: computational creativity, music performance, interactive music systems.', 'location': 'Location TBA', 'tech_needs': 'We will bring SPRAWL with all the components. This includes 8 Access Points (can be less or more, depending on venue and demand) with speakers and all cables. We need tables and some help with power supplies and power strips. The room for the workshop should be large enough to create a circle or horseshoe setup with the tables.'}\n",
      "{'title': 'Live4Life', 'facilitator': 'Christophe Lengelé', 'abstract': 'The workshop is based on the demonstration of  this spatial performance tool : https://github.com/Xon77/Live4Life. In addition to the \"Live For Life programme\", I will simultaneously show a new programme that I am currently developing, which integrates Tidal Cycles, SuperCollider, and various extensions quark, including SuperDirtMixer. This system features a GUI and controllers that execute command lines in Tidal Cycles and control multiple patterns and their variables (tempo, duration, synthesis, effects, or functions in patterns. It functions as a form of live coding DJing, where code lines replace traditional samples or records. The interface is still in development, with a public release planned for January 2025. An exemple of the workshop is summarized in the following link.', 'location': 'Location TBA', 'tech_needs': 'A quadriphonic system at the minimum to show spatialization, and a video-projector'}\n",
      "{'title': 'TODO', 'facilitator': 'Alberto de Campo & Bruno Gola', 'abstract': 'TODO', 'location': 'Location TBA', 'tech_needs': 'For the workshop we would need:\\n\\n- chairs+table space for all participants (up to 7 + 2 tutors) with their laptops and MIDI controllers.\\n- ideally individual speakers for each participant\\n- alternative: mixer with enough stereo inputs (9 stereo in) + stereo monitors\\n- a classroom-size HDMI screen or a projector'}\n",
      "{'title': 'TODO', 'facilitator': 'Joséphine Oberholtzer', 'abstract': 'TODO', 'location': 'Location TBA', 'tech_needs': 'Projector with USB-C input, stereo playback, 1/8” stereo input.'}\n"
     ]
    },
    {
     "data": {
      "text/plain": [
       "0"
      ]
     },
     "execution_count": 41,
     "metadata": {},
     "output_type": "execute_result"
    }
   ],
   "source": [
    "import jinja2\n",
    "import json\n",
    "import os\n",
    "\n",
    "def render_template(template_file, context):\n",
    "    loader = jinja2.FileSystemLoader(searchpath=\".\")\n",
    "    env = jinja2.Environment(loader=loader)\n",
    "    template = env.get_template(template_file)\n",
    "    rendered_text = template.render(context)\n",
    "    return rendered_text\n",
    "\n",
    "with open('./../program-data.json') as f:\n",
    "    schedule = json.load(f)\n",
    "\n",
    "doc = '''# Tech Riders: SuperCollider Symposium 2025\n",
    "\n",
    "Thursday, March 13 - Saturday, March 15, 2025\n",
    "\n",
    "Presented here in _sound check_, not concert order.\n",
    "\n",
    "'''\n",
    "\n",
    "for day in schedule['days']:\n",
    "    doc += f'\\n\\n# {day['day']}\\n\\n---\\n\\n'\n",
    "    \n",
    "    if 'installations' in day:\n",
    "        for installation in day['installations']:\n",
    "            doc += f'\\n\\n# Installations\\n\\n---\\n\\n'\n",
    "            doc += render_template('installation.jinja.md', installation)\n",
    "    \n",
    "    for event in day['events']:\n",
    "        \n",
    "        if event['type'] == 'concert':\n",
    "            doc += f'\\n\\n# {event[\"title\"]}\\n\\n---\\n\\n'\n",
    "            reversed_works = event['works'][::-1]\n",
    "            for work in reversed_works:\n",
    "                doc += render_template('work.jinja.md', work)\n",
    "        \n",
    "        if event['type'] == 'workshop':\n",
    "            doc += f'\\n\\n# {event[\"title\"]}\\n\\n---\\n\\n'\n",
    "            for workshop in event['workshops']:\n",
    "                print(workshop)\n",
    "                doc += render_template('workshop.jinja.md', workshop)\n",
    "                \n",
    "        if event['type'] == 'installations':\n",
    "            doc += f'\\n\\n# {event[\"title\"]}\\n\\n---\\n\\n'\n",
    "            for installation in event['installations']:\n",
    "                doc += render_template('installation.jinja.md', installation)\n",
    "\n",
    "with open('sound-checks-tech-riders.md', 'w') as f:\n",
    "    f.write(doc)\n",
    "\n",
    "os.system('pandoc sound-checks-tech-riders.md -o ../sound-checks-tech-riders.pdf')"
   ]
  }
 ],
 "metadata": {
  "kernelspec": {
   "display_name": "base",
   "language": "python",
   "name": "python3"
  },
  "language_info": {
   "codemirror_mode": {
    "name": "ipython",
    "version": 3
   },
   "file_extension": ".py",
   "mimetype": "text/x-python",
   "name": "python",
   "nbconvert_exporter": "python",
   "pygments_lexer": "ipython3",
   "version": "3.12.2"
  }
 },
 "nbformat": 4,
 "nbformat_minor": 2
}
